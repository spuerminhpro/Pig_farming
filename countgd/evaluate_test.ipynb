{
 "cells": [
  {
   "cell_type": "code",
   "execution_count": 1,
   "id": "d8f91593",
   "metadata": {},
   "outputs": [
    {
     "name": "stderr",
     "output_type": "stream",
     "text": [
      "c:\\Users\\phann\\anaconda3\\envs\\countGD\\Lib\\site-packages\\tqdm\\auto.py:21: TqdmWarning: IProgress not found. Please update jupyter and ipywidgets. See https://ipywidgets.readthedocs.io/en/stable/user_install.html\n",
      "  from .autonotebook import tqdm as notebook_tqdm\n"
     ]
    },
    {
     "name": "stdout",
     "output_type": "stream",
     "text": [
      "final text_encoder_type: checkpoints/bert-base-uncased\n",
      "load tokenizer done.\n"
     ]
    },
    {
     "name": "stderr",
     "output_type": "stream",
     "text": [
      "Some weights of BertModel were not initialized from the model checkpoint at checkpoints/bert-base-uncased and are newly initialized: ['pooler.dense.bias', 'pooler.dense.weight']\n",
      "You should probably TRAIN this model on a down-stream task to be able to use it for predictions and inference.\n"
     ]
    },
    {
     "name": "stdout",
     "output_type": "stream",
     "text": [
      "final text_encoder_type: checkpoints/bert-base-uncased\n",
      "load tokenizer done.\n",
      "Pretrained model path: checkpoint_best_regular.pth\n"
     ]
    }
   ],
   "source": [
    "import app\n",
    "import importlib\n",
    "importlib.reload(app)\n",
    "from app import (\n",
    "    build_model_and_transforms,\n",
    "    get_device,\n",
    "    get_args_parser,\n",
    "    generate_heatmap,\n",
    "    get_xy_from_boxes,\n",
    "    predict,\n",
    ")\n",
    "import importlib\n",
    "import logging\n",
    "from pathlib import Path\n",
    "from PIL import Image\n",
    "import json\n",
    "import numpy as np\n",
    "import matplotlib.pyplot as plt\n",
    "import matplotlib.patches as patches\n",
    "import time\n",
    "\n",
    "# Get the argument parser and update the default for pretrain_model_path\n",
    "parser = get_args_parser()\n",
    "parser.set_defaults(pretrain_model_path=\"checkpoint_best_regular.pth\")\n",
    "args = parser.parse_args([])\n",
    "\n",
    "device = get_device()\n",
    "model1, transform = build_model_and_transforms(args)\n",
    "model1 = model1.to(device)\n",
    "\n",
    "# Define a lambda function to run predictions\n",
    "run1 = lambda image, text: predict(model1, transform, image, text, None, device)\n",
    "\n",
    "# Define a lambda function to process output given an image and boxes\n",
    "get_output = lambda image, boxes: (len(boxes), get_xy_from_boxes(image, boxes), generate_heatmap(image, boxes))\n",
    "# Only output the count and the coordinates, without generating the heatmap image.\n",
    "get_output_count = lambda image, boxes: (len(boxes), get_xy_from_boxes(image, boxes))\n",
    "\n",
    "# Now, args.pretrain_model_path will be \"checkpoint_best_regular.pth\" unless overridden.\n",
    "print(\"Pretrained model path:\", args.pretrain_model_path)\n"
   ]
  },
  {
   "cell_type": "code",
   "execution_count": 3,
   "id": "d607e018",
   "metadata": {},
   "outputs": [
    {
     "name": "stderr",
     "output_type": "stream",
     "text": [
      "Some weights of BertModel were not initialized from the model checkpoint at checkpoints/bert-base-uncased and are newly initialized: ['pooler.dense.bias', 'pooler.dense.weight']\n",
      "You should probably TRAIN this model on a down-stream task to be able to use it for predictions and inference.\n"
     ]
    },
    {
     "name": "stdout",
     "output_type": "stream",
     "text": [
      "final text_encoder_type: checkpoints/bert-base-uncased\n",
      "load tokenizer done.\n",
      "final text_encoder_type: checkpoints/bert-base-uncased\n",
      "load tokenizer done.\n",
      "Pretrained model path: C:\\Users\\phann\\Documents\\project\\Pig_farming\\train_countgd\\checkpoints\\checkpoint_best_pig.pth\n"
     ]
    }
   ],
   "source": [
    "parser = get_args_parser()\n",
    "parser.set_defaults(pretrain_model_path=r\"C:\\Users\\phann\\Documents\\project\\Pig_farming\\train_countgd\\checkpoints\\checkpoint_best_pig.pth\")\n",
    "args = parser.parse_args([])\n",
    "\n",
    "# Load the first model (e.g., using the default path)\n",
    "device = get_device()\n",
    "model2, transform1 = build_model_and_transforms(args)\n",
    "model2 = model2.to(device)\n",
    "\n",
    "run2 = lambda image, text: predict(model2, transform, image, text, None, device)\n",
    "print(\"Pretrained model path:\", args.pretrain_model_path)\n"
   ]
  },
  {
   "cell_type": "code",
   "execution_count": 4,
   "id": "0139fb23",
   "metadata": {},
   "outputs": [],
   "source": [
    "\n",
    "\n",
    "# Import the utility function to convert boxes to centers\n",
    "\n",
    "# Setup logging\n",
    "logger = logging.getLogger()\n",
    "logger.setLevel(logging.INFO)\n",
    "\n",
    "# Define model names (for display purposes only)\n",
    "model1_name = \"model_base\"\n",
    "model2_name = \"model10\"\n",
    "\n",
    "def process_folder_with_two_models(image_path: Path, text: str, output_dir: Path):\n",
    "    \"\"\"Processes an image using two models, logs results, and saves a comparison heatmap.\"\"\"\n",
    "    total_time = time.time()\n",
    "    # Load the original image\n",
    "    try:\n",
    "        with Image.open(image_path) as im:\n",
    "            im.load()\n",
    "            original_image = im.convert(\"RGB\")\n",
    "    except Exception as e:\n",
    "        logger.error(f\"Error loading image {image_path}: {e}\")\n",
    "        return\n",
    "\n",
    "    # --- Run model 1 ---\n",
    "    start_time_1 = time.time()\n",
    "    boxes1, _ = run1(original_image, text)  # Ensure run1 is defined\n",
    "    count1, xy1=get_output_count(original_image, boxes1)\n",
    "    latency_1 = time.time() - start_time_1\n",
    "    fps_1 = 1 / latency_1 if latency_1 > 0 else float('inf')\n",
    "\n",
    "    # --- Run model 2 ---\n",
    "    start_time_2 = time.time()\n",
    "    boxes2, _ = run2(original_image, text)\n",
    "    count2, xy2=get_output_count(original_image, boxes2)\n",
    "    latency_2 = time.time() - start_time_2\n",
    "    fps_2 = 1 / latency_2 if latency_2 > 0 else float('inf')\n",
    "\n",
    "    # Get outputs from both models\n",
    "    count1, xy1, heatmap1 = get_output(original_image, boxes1)\n",
    "    count2, xy2, heatmap2 = get_output(original_image, boxes2)\n",
    "    end_time = time.time()\n",
    "    total_latency = end_time - total_time\n",
    "    total_fps = 1 / total_latency if total_latency > 0 else float('inf')\n",
    "    # Log predictions and performance metrics\n",
    "    logger.info(f\"{model1_name} predicts {count1}, Latency: {latency_1:.2f} sec, FPS: {fps_1:.2f}\")\n",
    "    logger.info(f\"{model2_name} predicts {count2}, Latency: {latency_2:.2f} sec, FPS: {fps_2:.2f}\")\n",
    "\n",
    "    print(\"Predict count 1:\",count1,\"\\n\"\n",
    "          ,\"Predict count 2:\",count2)\n",
    "    # Ensure heatmaps have matching height before concatenating\n",
    "\n",
    "    heatmap_combined = np.concatenate([np.array(heatmap1), np.array(heatmap2)], axis=1)\n",
    "\n",
    "    # Create a figure with two subplots\n",
    "    fig, (ax1, ax2) = plt.subplots(1, 2, figsize=(24, 12), dpi=100)\n",
    "\n",
    "    # --- Left subplot: original image with ground truth points ---\n",
    "    ax1.imshow(np.array(original_image))\n",
    "    ax1.set_title(\"Original Image with Ground Truth\", fontsize=20)\n",
    "    ax1.axis('off')\n",
    "\n",
    "    # --- Right subplot: Combined model prediction heatmap with counts ---\n",
    "    ax2.imshow(heatmap_combined, cmap='jet')\n",
    "    ax2.set_title(\"Model Predictions\", fontsize=20)\n",
    "\n",
    "    # Overlay prediction text for each model\n",
    "    ax2.text(20, 40, f\"{model1_name}: {count1}\", fontsize=18, color=\"white\", backgroundcolor=\"black\")\n",
    "    ax2.text(heatmap_combined.shape[1] // 2 + 20, 40, f\"{model2_name}: {count2}\", fontsize=18, color=\"white\", backgroundcolor=\"black\")\n",
    "\n",
    "    # Add latency and FPS info to the heatmap\n",
    "    latency_text = (f\"{model1_name}: Latency {latency_1:.2f} sec | FPS {fps_1:.2f}\\n\"\n",
    "                    f\"{model2_name}: Latency {latency_2:.2f} sec | FPS {fps_2:.2f}\\n\"\n",
    "                    f\"Total Latency: {total_latency:.2f} sec | Total FPS: {total_fps:.2f}\")\n",
    "    ax2.text(20, heatmap_combined.shape[0] + 80, latency_text, fontsize=18, color=\"white\", backgroundcolor=\"black\")\n",
    "\n",
    "    # Save the combined results\n",
    "    plt.tight_layout()\n",
    "    output_plot_path = output_dir / f\"{image_path.stem}_combined_results.png\"\n",
    "    plt.savefig(output_plot_path, bbox_inches='tight', pad_inches=0)\n",
    "    plt.close(fig)\n",
    "\n",
    "    logger.info(f\"Combined plot saved at {output_plot_path}\")\n",
    "\n",
    "    return count1, count2, xy1, xy2, heatmap_combined\n",
    "\n"
   ]
  },
  {
   "cell_type": "code",
   "execution_count": null,
   "id": "3dcde901",
   "metadata": {},
   "outputs": [],
   "source": [
    "import os\n",
    "import glob\n",
    "from pathlib import Path\n",
    "\n",
    "# Define the input folder containing test images (e.g., \"img200\")\n",
    "input_folder = r\"C:\\Users\\phann\\Documents\\project\\dataset\\mini_pig_200img\"\n",
    "\n",
    "# Define the output directory (this should match what you use in your processing function)\n",
    "output_dir = Path(r\"C:\\Users\\phann\\Documents\\project\\dataset\\mini_pig_base_vs_10\")\n",
    "output_dir.mkdir(parents=True, exist_ok=True)\n",
    "\n",
    "# Get all image files (recursively) in the input folder\n",
    "image_files = glob.glob(os.path.join(input_folder, \"**/*.jpg\"), recursive=True)\n",
    "\n",
    "object_to_count = \"pig\"  # the object label you're interested in\n",
    "\n",
    "# Iterate over each image file and process it\n",
    "for img_file in image_files:\n",
    "    print(f\"Processing {img_file}...\")\n",
    "    process_folder_with_two_models(Path(img_file), object_to_count,output_dir)\n"
   ]
  }
 ],
 "metadata": {
  "kernelspec": {
   "display_name": "countGD",
   "language": "python",
   "name": "python3"
  },
  "language_info": {
   "codemirror_mode": {
    "name": "ipython",
    "version": 3
   },
   "file_extension": ".py",
   "mimetype": "text/x-python",
   "name": "python",
   "nbconvert_exporter": "python",
   "pygments_lexer": "ipython3",
   "version": "3.11.11"
  }
 },
 "nbformat": 4,
 "nbformat_minor": 5
}
